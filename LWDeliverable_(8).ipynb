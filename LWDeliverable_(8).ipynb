{
  "nbformat": 4,
  "nbformat_minor": 0,
  "metadata": {
    "colab": {
      "provenance": []
    },
    "kernelspec": {
      "name": "python3",
      "display_name": "Python 3"
    },
    "language_info": {
      "name": "python"
    }
  },
  "cells": [
    {
      "cell_type": "code",
      "execution_count": 272,
      "metadata": {
        "id": "x9oKr8VrhO5H"
      },
      "outputs": [],
      "source": [
        "import numpy as np"
      ]
    },
    {
      "cell_type": "code",
      "source": [
        "def random_list(size):\n",
        "  list = []\n",
        "  for i in range(size):\n",
        "    list.append(np.random.randint(10,50))\n",
        "  return list\n",
        "\n",
        "def sum_random (list):\n",
        "  sum = 0\n",
        "  for i in range(len(list)):\n",
        "    sum = sum + list[i]\n",
        "  return sum"
      ],
      "metadata": {
        "id": "CdPAX5pFheah"
      },
      "execution_count": 273,
      "outputs": []
    },
    {
      "cell_type": "code",
      "source": [
        "n = int(input(\"Enter a number between 5 and 15: \"))"
      ],
      "metadata": {
        "colab": {
          "base_uri": "https://localhost:8080/"
        },
        "id": "ixpMdhQWvdzf",
        "outputId": "34deb57f-7798-4842-b343-b90156564d78"
      },
      "execution_count": 274,
      "outputs": [
        {
          "name": "stdout",
          "output_type": "stream",
          "text": [
            "Enter a number between 5 and 15: 6\n"
          ]
        }
      ]
    },
    {
      "cell_type": "code",
      "source": [
        "if (n < 5) or (n > 15):\n",
        "    print(\"Please only choose a number between 5 and 15.\")\n",
        "\n",
        "else :\n",
        "    print(\"You entered: \", n)\n",
        "    MyList = random_list(n)\n",
        "    print('The elements of the array are: ', MyList)\n",
        "    MySum = sum_random(MyList)\n",
        "    print('The sum is: ', MySum)\n"
      ],
      "metadata": {
        "colab": {
          "base_uri": "https://localhost:8080/"
        },
        "id": "m-lZkVcMc6di",
        "outputId": "920406a3-76fc-4223-c2b7-b313b7ac8ad1"
      },
      "execution_count": 275,
      "outputs": [
        {
          "output_type": "stream",
          "name": "stdout",
          "text": [
            "You entered:  6\n",
            "The elements of the array are:  [47, 19, 43, 34, 45, 25]\n",
            "The sum is:  213\n"
          ]
        }
      ]
    }
  ]
}